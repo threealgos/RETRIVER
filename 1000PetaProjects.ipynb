{
  "cells": [
    {
      "cell_type": "code",
      "execution_count": 1,
      "metadata": {
        "id": "M6eZ0Qx7_CIt",
        "colab": {
          "base_uri": "https://localhost:8080/"
        },
        "outputId": "4fc55a86-c461-40fa-8c71-a3885c397307"
      },
      "outputs": [
        {
          "output_type": "stream",
          "name": "stdout",
          "text": [
            "Mounted at /content/drive\n"
          ]
        }
      ],
      "source": [
        "from google.colab import drive\n",
        "drive.mount('/content/drive')"
      ]
    },
    {
      "cell_type": "code",
      "execution_count": 2,
      "metadata": {
        "colab": {
          "base_uri": "https://localhost:8080/",
          "height": 1000
        },
        "id": "Gq8saiTC_V-5",
        "outputId": "4285c2b7-ce55-48f6-bc69-ac4dd89c78a0"
      },
      "outputs": [
        {
          "output_type": "stream",
          "name": "stdout",
          "text": [
            "Collecting bit\n",
            "  Downloading bit-0.8.0-py3-none-any.whl.metadata (4.9 kB)\n",
            "Collecting coincurve>=4.3.0 (from bit)\n",
            "  Downloading coincurve-20.0.0-cp310-cp310-manylinux_2_17_x86_64.manylinux2014_x86_64.whl.metadata (4.0 kB)\n",
            "Requirement already satisfied: requests in /usr/local/lib/python3.10/dist-packages (from bit) (2.32.3)\n",
            "Collecting asn1crypto (from coincurve>=4.3.0->bit)\n",
            "  Downloading asn1crypto-1.5.1-py2.py3-none-any.whl.metadata (13 kB)\n",
            "Requirement already satisfied: cffi>=1.3.0 in /usr/local/lib/python3.10/dist-packages (from coincurve>=4.3.0->bit) (1.17.1)\n",
            "Requirement already satisfied: charset-normalizer<4,>=2 in /usr/local/lib/python3.10/dist-packages (from requests->bit) (3.4.0)\n",
            "Requirement already satisfied: idna<4,>=2.5 in /usr/local/lib/python3.10/dist-packages (from requests->bit) (3.10)\n",
            "Requirement already satisfied: urllib3<3,>=1.21.1 in /usr/local/lib/python3.10/dist-packages (from requests->bit) (2.2.3)\n",
            "Requirement already satisfied: certifi>=2017.4.17 in /usr/local/lib/python3.10/dist-packages (from requests->bit) (2024.12.14)\n",
            "Requirement already satisfied: pycparser in /usr/local/lib/python3.10/dist-packages (from cffi>=1.3.0->coincurve>=4.3.0->bit) (2.22)\n",
            "Downloading bit-0.8.0-py3-none-any.whl (68 kB)\n",
            "\u001b[2K   \u001b[90m━━━━━━━━━━━━━━━━━━━━━━━━━━━━━━━━━━━━━━━━\u001b[0m \u001b[32m68.9/68.9 kB\u001b[0m \u001b[31m3.3 MB/s\u001b[0m eta \u001b[36m0:00:00\u001b[0m\n",
            "\u001b[?25hDownloading coincurve-20.0.0-cp310-cp310-manylinux_2_17_x86_64.manylinux2014_x86_64.whl (1.2 MB)\n",
            "\u001b[2K   \u001b[90m━━━━━━━━━━━━━━━━━━━━━━━━━━━━━━━━━━━━━━━━\u001b[0m \u001b[32m1.2/1.2 MB\u001b[0m \u001b[31m31.2 MB/s\u001b[0m eta \u001b[36m0:00:00\u001b[0m\n",
            "\u001b[?25hDownloading asn1crypto-1.5.1-py2.py3-none-any.whl (105 kB)\n",
            "\u001b[2K   \u001b[90m━━━━━━━━━━━━━━━━━━━━━━━━━━━━━━━━━━━━━━━━\u001b[0m \u001b[32m105.0/105.0 kB\u001b[0m \u001b[31m10.5 MB/s\u001b[0m eta \u001b[36m0:00:00\u001b[0m\n",
            "\u001b[?25hInstalling collected packages: asn1crypto, coincurve, bit\n",
            "Successfully installed asn1crypto-1.5.1 bit-0.8.0 coincurve-20.0.0\n",
            "Collecting ice\n",
            "  Downloading ice-0.0.2.tar.gz (20 kB)\n",
            "  Preparing metadata (setup.py) ... \u001b[?25l\u001b[?25hdone\n",
            "Building wheels for collected packages: ice\n",
            "  Building wheel for ice (setup.py) ... \u001b[?25l\u001b[?25hdone\n",
            "  Created wheel for ice: filename=ice-0.0.2-py3-none-any.whl size=11664 sha256=18b0d1e61d98d1565e4c841a3ee213d7a55d838146d4a8b3dab682dc77a5aae3\n",
            "  Stored in directory: /root/.cache/pip/wheels/6c/66/d0/af65296dbeaaa9876682a13d683b53df92c35181f1441e822a\n",
            "Successfully built ice\n",
            "Installing collected packages: ice\n",
            "Successfully installed ice-0.0.2\n",
            "Collecting argparse\n",
            "  Downloading argparse-1.4.0-py2.py3-none-any.whl.metadata (2.8 kB)\n",
            "Downloading argparse-1.4.0-py2.py3-none-any.whl (23 kB)\n",
            "Installing collected packages: argparse\n",
            "Successfully installed argparse-1.4.0\n",
            "Collecting base58\n",
            "  Downloading base58-2.1.1-py3-none-any.whl.metadata (3.1 kB)\n",
            "Downloading base58-2.1.1-py3-none-any.whl (5.6 kB)\n",
            "Installing collected packages: base58\n",
            "Successfully installed base58-2.1.1\n",
            "Collecting bitcoin\n",
            "  Downloading bitcoin-1.1.42.tar.gz (36 kB)\n",
            "  Preparing metadata (setup.py) ... \u001b[?25l\u001b[?25hdone\n",
            "Building wheels for collected packages: bitcoin\n",
            "  Building wheel for bitcoin (setup.py) ... \u001b[?25l\u001b[?25hdone\n",
            "  Created wheel for bitcoin: filename=bitcoin-1.1.42-py3-none-any.whl size=44403 sha256=34bf74b0dae47b93d473482db5566d05745fcb8282efa7766aac352270084e5f\n",
            "  Stored in directory: /root/.cache/pip/wheels/a3/98/a1/0d53f5b714680bb5dffc2db778c221b1f5c54bc4a3a779c8c5\n",
            "Successfully built bitcoin\n",
            "Installing collected packages: bitcoin\n",
            "Successfully installed bitcoin-1.1.42\n",
            "Collecting pub\n",
            "  Downloading pub-0.0.4.tar.gz (6.2 kB)\n",
            "  Preparing metadata (setup.py) ... \u001b[?25l\u001b[?25hdone\n",
            "Collecting path.py>=2.2 (from pub)\n",
            "  Downloading path.py-12.5.0-py3-none-any.whl.metadata (1.3 kB)\n",
            "Collecting envoy>=0.0.2 (from pub)\n",
            "  Downloading envoy-0.0.3-py2.py3-none-any.whl.metadata (1.4 kB)\n",
            "Requirement already satisfied: networkx>=1.6 in /usr/local/lib/python3.10/dist-packages (from pub) (3.4.2)\n",
            "Collecting path (from path.py>=2.2->pub)\n",
            "  Downloading path-17.0.0-py3-none-any.whl.metadata (6.4 kB)\n",
            "Downloading envoy-0.0.3-py2.py3-none-any.whl (5.0 kB)\n",
            "Downloading path.py-12.5.0-py3-none-any.whl (2.3 kB)\n",
            "Downloading path-17.0.0-py3-none-any.whl (24 kB)\n",
            "Building wheels for collected packages: pub\n",
            "  Building wheel for pub (setup.py) ... \u001b[?25l\u001b[?25hdone\n",
            "  Created wheel for pub: filename=pub-0.0.4-py3-none-any.whl size=5628 sha256=a46d212abd3ea901bda8f05dff7f0dce5847c090d1da18f3769748a2e73c7854\n",
            "  Stored in directory: /root/.cache/pip/wheels/fb/c6/6c/273a960e6427ff0320232b92872fb7846fef0b0b977889d70d\n",
            "Successfully built pub\n",
            "Installing collected packages: envoy, path, path.py, pub\n",
            "Successfully installed envoy-0.0.3 path-17.0.0 path.py-12.5.0 pub-0.0.4\n",
            "Requirement already satisfied: requests in /usr/local/lib/python3.10/dist-packages (2.32.3)\n",
            "Requirement already satisfied: charset-normalizer<4,>=2 in /usr/local/lib/python3.10/dist-packages (from requests) (3.4.0)\n",
            "Requirement already satisfied: idna<4,>=2.5 in /usr/local/lib/python3.10/dist-packages (from requests) (3.10)\n",
            "Requirement already satisfied: urllib3<3,>=1.21.1 in /usr/local/lib/python3.10/dist-packages (from requests) (2.2.3)\n",
            "Requirement already satisfied: certifi>=2017.4.17 in /usr/local/lib/python3.10/dist-packages (from requests) (2024.12.14)\n"
          ]
        },
        {
          "output_type": "display_data",
          "data": {
            "application/vnd.colab-display-data+json": {
              "pip_warning": {
                "packages": [
                  "argparse"
                ]
              },
              "id": "e515419c69ec4a0fbacd40041bcf5a23"
            }
          },
          "metadata": {}
        }
      ],
      "source": [
        "!pip3 install bit && pip3 install ice && pip3 install argparse && pip3 install base58 && pip3 install bitcoin && pip3 install pub && pip3 install requests"
      ]
    },
    {
      "cell_type": "code",
      "execution_count": 3,
      "metadata": {
        "colab": {
          "base_uri": "https://localhost:8080/"
        },
        "id": "O1mukol_BNrm",
        "outputId": "387e3bca-de97-4d33-b4c4-01c003c6bd70"
      },
      "outputs": [
        {
          "output_type": "stream",
          "name": "stdout",
          "text": [
            "Reading package lists... Done\n",
            "Building dependency tree... Done\n",
            "Reading state information... Done\n",
            "The following additional packages will be installed:\n",
            "  cuda-toolkit-11-8-config-common cuda-toolkit-11-config-common\n",
            "The following NEW packages will be installed:\n",
            "  cuda-cudart-11-8 cuda-toolkit-11-8-config-common cuda-toolkit-11-config-common\n",
            "0 upgraded, 3 newly installed, 0 to remove and 49 not upgraded.\n",
            "Need to get 198 kB of archives.\n",
            "After this operation, 938 kB of additional disk space will be used.\n",
            "Get:1 https://developer.download.nvidia.com/compute/cuda/repos/ubuntu2204/x86_64  cuda-toolkit-11-config-common 11.8.89-1 [16.4 kB]\n",
            "Get:2 https://developer.download.nvidia.com/compute/cuda/repos/ubuntu2204/x86_64  cuda-toolkit-11-8-config-common 11.8.89-1 [16.3 kB]\n",
            "Get:3 https://developer.download.nvidia.com/compute/cuda/repos/ubuntu2204/x86_64  cuda-cudart-11-8 11.8.89-1 [165 kB]\n",
            "Fetched 198 kB in 0s (1,133 kB/s)\n",
            "Selecting previously unselected package cuda-toolkit-11-config-common.\n",
            "(Reading database ... 123634 files and directories currently installed.)\n",
            "Preparing to unpack .../cuda-toolkit-11-config-common_11.8.89-1_all.deb ...\n",
            "Unpacking cuda-toolkit-11-config-common (11.8.89-1) ...\n",
            "Selecting previously unselected package cuda-toolkit-11-8-config-common.\n",
            "Preparing to unpack .../cuda-toolkit-11-8-config-common_11.8.89-1_all.deb ...\n",
            "Unpacking cuda-toolkit-11-8-config-common (11.8.89-1) ...\n",
            "Selecting previously unselected package cuda-cudart-11-8.\n",
            "Preparing to unpack .../cuda-cudart-11-8_11.8.89-1_amd64.deb ...\n",
            "Unpacking cuda-cudart-11-8 (11.8.89-1) ...\n",
            "Setting up cuda-toolkit-11-config-common (11.8.89-1) ...\n",
            "Setting up cuda-toolkit-11-8-config-common (11.8.89-1) ...\n",
            "Setting alternatives\n",
            "update-alternatives: using /usr/local/cuda-11.8 to provide /usr/local/cuda-11 (cuda-11) in auto mode\n",
            "Setting up cuda-cudart-11-8 (11.8.89-1) ...\n",
            "Processing triggers for libc-bin (2.35-0ubuntu3.4) ...\n",
            "/sbin/ldconfig.real: /usr/local/lib/libtbbmalloc.so.2 is not a symbolic link\n",
            "\n",
            "/sbin/ldconfig.real: /usr/local/lib/libtcm.so.1 is not a symbolic link\n",
            "\n",
            "/sbin/ldconfig.real: /usr/local/lib/libtcm_debug.so.1 is not a symbolic link\n",
            "\n",
            "/sbin/ldconfig.real: /usr/local/lib/libumf.so.0 is not a symbolic link\n",
            "\n",
            "/sbin/ldconfig.real: /usr/local/lib/libtbbbind_2_5.so.3 is not a symbolic link\n",
            "\n",
            "/sbin/ldconfig.real: /usr/local/lib/libtbbbind.so.3 is not a symbolic link\n",
            "\n",
            "/sbin/ldconfig.real: /usr/local/lib/libtbb.so.12 is not a symbolic link\n",
            "\n",
            "/sbin/ldconfig.real: /usr/local/lib/libtbbbind_2_0.so.3 is not a symbolic link\n",
            "\n",
            "/sbin/ldconfig.real: /usr/local/lib/libur_loader.so.0 is not a symbolic link\n",
            "\n",
            "/sbin/ldconfig.real: /usr/local/lib/libhwloc.so.15 is not a symbolic link\n",
            "\n",
            "/sbin/ldconfig.real: /usr/local/lib/libur_adapter_level_zero.so.0 is not a symbolic link\n",
            "\n",
            "/sbin/ldconfig.real: /usr/local/lib/libur_adapter_opencl.so.0 is not a symbolic link\n",
            "\n",
            "/sbin/ldconfig.real: /usr/local/lib/libtbbmalloc_proxy.so.2 is not a symbolic link\n",
            "\n"
          ]
        }
      ],
      "source": [
        "!apt install cuda-cudart-11-8 -y"
      ]
    },
    {
      "cell_type": "code",
      "execution_count": 4,
      "metadata": {
        "colab": {
          "base_uri": "https://localhost:8080/"
        },
        "id": "Tm0PIbP_ppm9",
        "outputId": "31458ea3-2d0f-47fc-b4f9-825cf697a3bc"
      },
      "outputs": [
        {
          "output_type": "stream",
          "name": "stdout",
          "text": [
            "Collecting secp256k1\n",
            "  Downloading secp256k1-0.14.0-cp310-cp310-manylinux_2_5_x86_64.manylinux1_x86_64.manylinux_2_12_x86_64.manylinux2010_x86_64.whl.metadata (14 kB)\n",
            "Requirement already satisfied: cffi>=1.3.0 in /usr/local/lib/python3.10/dist-packages (from secp256k1) (1.17.1)\n",
            "Requirement already satisfied: pycparser in /usr/local/lib/python3.10/dist-packages (from cffi>=1.3.0->secp256k1) (2.22)\n",
            "Downloading secp256k1-0.14.0-cp310-cp310-manylinux_2_5_x86_64.manylinux1_x86_64.manylinux_2_12_x86_64.manylinux2010_x86_64.whl (1.4 MB)\n",
            "\u001b[2K   \u001b[90m━━━━━━━━━━━━━━━━━━━━━━━━━━━━━━━━━━━━━━━━\u001b[0m \u001b[32m1.4/1.4 MB\u001b[0m \u001b[31m23.3 MB/s\u001b[0m eta \u001b[36m0:00:00\u001b[0m\n",
            "\u001b[?25hInstalling collected packages: secp256k1\n",
            "Successfully installed secp256k1-0.14.0\n",
            "Requirement already satisfied: bit in /usr/local/lib/python3.10/dist-packages (0.8.0)\n",
            "Requirement already satisfied: coincurve>=4.3.0 in /usr/local/lib/python3.10/dist-packages (from bit) (20.0.0)\n",
            "Requirement already satisfied: requests in /usr/local/lib/python3.10/dist-packages (from bit) (2.32.3)\n",
            "Requirement already satisfied: asn1crypto in /usr/local/lib/python3.10/dist-packages (from coincurve>=4.3.0->bit) (1.5.1)\n",
            "Requirement already satisfied: cffi>=1.3.0 in /usr/local/lib/python3.10/dist-packages (from coincurve>=4.3.0->bit) (1.17.1)\n",
            "Requirement already satisfied: charset-normalizer<4,>=2 in /usr/local/lib/python3.10/dist-packages (from requests->bit) (3.4.0)\n",
            "Requirement already satisfied: idna<4,>=2.5 in /usr/local/lib/python3.10/dist-packages (from requests->bit) (3.10)\n",
            "Requirement already satisfied: urllib3<3,>=1.21.1 in /usr/local/lib/python3.10/dist-packages (from requests->bit) (2.2.3)\n",
            "Requirement already satisfied: certifi>=2017.4.17 in /usr/local/lib/python3.10/dist-packages (from requests->bit) (2024.12.14)\n",
            "Requirement already satisfied: pycparser in /usr/local/lib/python3.10/dist-packages (from cffi>=1.3.0->coincurve>=4.3.0->bit) (2.22)\n",
            "\u001b[31mERROR: Could not find a version that satisfies the requirement signal (from versions: none)\u001b[0m\u001b[31m\n",
            "\u001b[0m\u001b[31mERROR: No matching distribution found for signal\u001b[0m\u001b[31m\n",
            "\u001b[0m"
          ]
        }
      ],
      "source": [
        "!pip3 install secp256k1 && pip3 install bit && pip3 install signal && pip3 install ice && pip3 install argparse && pip3 install base58 && pip3 install bitcoin && pip3 install pub && pip3 install requests"
      ]
    },
    {
      "cell_type": "code",
      "source": [
        "!cd /content/drive/MyDrive/ && unzip RETRIVER.zip"
      ],
      "metadata": {
        "id": "fd-A471VTYjU",
        "colab": {
          "base_uri": "https://localhost:8080/"
        },
        "outputId": "bf7b428e-ce04-4526-f766-18da5ad22afe"
      },
      "execution_count": 5,
      "outputs": [
        {
          "output_type": "stream",
          "name": "stdout",
          "text": [
            "Archive:  RETRIVER.zip\n",
            "   creating: RETRIVER/\n",
            "   creating: RETRIVER/.git/\n",
            "  inflating: RETRIVER/.gitignore     \n",
            "   creating: RETRIVER/.git/branches/\n",
            "  inflating: RETRIVER/.git/config    \n",
            "  inflating: RETRIVER/.git/description  \n",
            " extracting: RETRIVER/.git/HEAD      \n",
            "   creating: RETRIVER/.git/hooks/\n",
            "  inflating: RETRIVER/.git/hooks/applypatch-msg.sample  \n",
            "  inflating: RETRIVER/.git/hooks/commit-msg.sample  \n",
            "  inflating: RETRIVER/.git/hooks/fsmonitor-watchman.sample  \n",
            "  inflating: RETRIVER/.git/hooks/post-update.sample  \n",
            "  inflating: RETRIVER/.git/hooks/pre-applypatch.sample  \n",
            "  inflating: RETRIVER/.git/hooks/pre-commit.sample  \n",
            "  inflating: RETRIVER/.git/hooks/pre-merge-commit.sample  \n",
            "  inflating: RETRIVER/.git/hooks/pre-push.sample  \n",
            "  inflating: RETRIVER/.git/hooks/pre-rebase.sample  \n",
            "  inflating: RETRIVER/.git/hooks/pre-receive.sample  \n",
            "  inflating: RETRIVER/.git/hooks/prepare-commit-msg.sample  \n",
            "  inflating: RETRIVER/.git/hooks/push-to-checkout.sample  \n",
            "  inflating: RETRIVER/.git/hooks/update.sample  \n",
            "  inflating: RETRIVER/.git/index     \n",
            "   creating: RETRIVER/.git/info/\n",
            "  inflating: RETRIVER/.git/info/exclude  \n",
            "   creating: RETRIVER/.git/logs/\n",
            "  inflating: RETRIVER/.git/logs/HEAD  \n",
            "   creating: RETRIVER/.git/logs/refs/\n",
            "   creating: RETRIVER/.git/logs/refs/heads/\n",
            "  inflating: RETRIVER/.git/logs/refs/heads/master  \n",
            "   creating: RETRIVER/.git/logs/refs/remotes/\n",
            "   creating: RETRIVER/.git/logs/refs/remotes/origin/\n",
            "  inflating: RETRIVER/.git/logs/refs/remotes/origin/HEAD  \n",
            "   creating: RETRIVER/.git/objects/\n",
            "   creating: RETRIVER/.git/objects/info/\n",
            "   creating: RETRIVER/.git/objects/pack/\n",
            "  inflating: RETRIVER/.git/objects/pack/pack-2d4f0d034bfbd1bd29f82633015c39a639f64798.idx  \n",
            "  inflating: RETRIVER/.git/objects/pack/pack-2d4f0d034bfbd1bd29f82633015c39a639f64798.pack  \n",
            "  inflating: RETRIVER/.git/packed-refs  \n",
            "   creating: RETRIVER/.git/refs/\n",
            "   creating: RETRIVER/.git/refs/heads/\n",
            " extracting: RETRIVER/.git/refs/heads/master  \n",
            "   creating: RETRIVER/.git/refs/remotes/\n",
            "   creating: RETRIVER/.git/refs/remotes/origin/\n",
            " extracting: RETRIVER/.git/refs/remotes/origin/HEAD  \n",
            "   creating: RETRIVER/.git/refs/tags/\n",
            "   creating: RETRIVER/.ipynb_checkpoints/\n",
            "  inflating: RETRIVER/Backup.cpp     \n",
            "  inflating: RETRIVER/Check.cpp      \n",
            "  inflating: RETRIVER/Constants.h    \n",
            "   creating: RETRIVER/DOC/\n",
            "  inflating: RETRIVER/DOC/architecture.jpg  \n",
            "  inflating: RETRIVER/DOC/keys110.jpg  \n",
            "  inflating: RETRIVER/DOC/paths.jpg  \n",
            "  inflating: RETRIVER/DOC/successprob.jpg  \n",
            "   creating: RETRIVER/FIX/\n",
            "  inflating: RETRIVER/FIX/AiCreateherd Generated WILD.txt  \n",
            "  inflating: RETRIVER/FIX/AiCreateherd NO Generation  WILD - .txt  \n",
            "  inflating: RETRIVER/FIX/GPUEngine.cu  \n",
            "  inflating: RETRIVER/FIX/Kangaroo.cpp  \n",
            "  inflating: RETRIVER/FIX/Network-2VERSION2.txt  \n",
            "  inflating: RETRIVER/FIX/Network.cpp  \n",
            "  inflating: RETRIVER/FIX/Network.cpp VERSION1.txt  \n",
            "  inflating: RETRIVER/FIX/V1Engine.cuV.txt  \n",
            "  inflating: RETRIVER/FIX/V2Engine.cu.txt  \n",
            "   creating: RETRIVER/GPU/\n",
            "  inflating: RETRIVER/GPU/GPUCompute.h  \n",
            "  inflating: RETRIVER/GPU/GPUEngine-or.cu  \n",
            "  inflating: RETRIVER/GPU/GPUEngine.h  \n",
            "  inflating: RETRIVER/GPU/GPUGenerate.cpp  \n",
            "  inflating: RETRIVER/GPU/GPUMath.h  \n",
            "  inflating: RETRIVER/HashTable.cpp  \n",
            "  inflating: RETRIVER/HashTable.h    \n",
            "  inflating: RETRIVER/in.txt         \n",
            "  inflating: RETRIVER/kangaroo       \n",
            "  inflating: RETRIVER/Kangaroo-or.cpp  \n",
            "  inflating: RETRIVER/Kangaroo.h     \n",
            "  inflating: RETRIVER/KEYS.txt       \n",
            "  inflating: RETRIVER/LICENSE.txt    \n",
            "  inflating: RETRIVER/main.cpp       \n",
            "  inflating: RETRIVER/Makefile       \n",
            "  inflating: RETRIVER/Merge.cpp      \n",
            "  inflating: RETRIVER/Network-or.cpp  \n",
            "   creating: RETRIVER/obj/\n",
            "   creating: RETRIVER/obj/.ipynb_checkpoints/\n",
            "  inflating: RETRIVER/obj/Backup.o   \n",
            "  inflating: RETRIVER/obj/Check.o    \n",
            "   creating: RETRIVER/obj/GPU/\n",
            "  inflating: RETRIVER/obj/GPU/GPUEngin_Sm75.o  \n",
            "  inflating: RETRIVER/obj/HashTable.o  \n",
            "  inflating: RETRIVER/obj/main.o     \n",
            "  inflating: RETRIVER/obj/Merge.o    \n",
            "  inflating: RETRIVER/obj/PartMerge.o  \n",
            "   creating: RETRIVER/obj/SECPK1/\n",
            "   creating: RETRIVER/obj/SECPK1/.ipynb_checkpoints/\n",
            "  inflating: RETRIVER/obj/SECPK1/Int.o  \n",
            "  inflating: RETRIVER/obj/SECPK1/IntGroup.o  \n",
            "  inflating: RETRIVER/obj/SECPK1/IntMod.o  \n",
            "  inflating: RETRIVER/obj/SECPK1/Point.o  \n",
            "  inflating: RETRIVER/obj/SECPK1/Random.o  \n",
            "  inflating: RETRIVER/obj/SECPK1/SECP256K1.o  \n",
            "  inflating: RETRIVER/obj/Thread.o   \n",
            "  inflating: RETRIVER/obj/Timer.o    \n",
            "  inflating: RETRIVER/PartMerge.cpp  \n",
            "  inflating: RETRIVER/puzzle32.txt   \n",
            "  inflating: RETRIVER/README.md      \n",
            "   creating: RETRIVER/SECPK1/\n",
            "  inflating: RETRIVER/SECPK1/Int.cpp  \n",
            "  inflating: RETRIVER/SECPK1/Int.h   \n",
            "  inflating: RETRIVER/SECPK1/IntGroup.cpp  \n",
            "  inflating: RETRIVER/SECPK1/IntGroup.h  \n",
            "  inflating: RETRIVER/SECPK1/IntMod.cpp  \n",
            "  inflating: RETRIVER/SECPK1/Point.cpp  \n",
            "  inflating: RETRIVER/SECPK1/Point.h  \n",
            "  inflating: RETRIVER/SECPK1/Random.cpp  \n",
            "  inflating: RETRIVER/SECPK1/Random.h  \n",
            "  inflating: RETRIVER/SECPK1/SECP256K1.cpp  \n",
            "  inflating: RETRIVER/SECPK1/SECP256k1.h  \n",
            "  inflating: RETRIVER/Thread.cpp     \n",
            "  inflating: RETRIVER/Timer.cpp      \n",
            "  inflating: RETRIVER/Timer.h        \n",
            "   creating: RETRIVER/VC_CUDA10/\n",
            "   creating: RETRIVER/VC_CUDA102/\n",
            "  inflating: RETRIVER/VC_CUDA102/Kangaroo.sln  \n",
            "  inflating: RETRIVER/VC_CUDA102/Kangaroo.vcxproj.filters  \n",
            "  inflating: RETRIVER/VC_CUDA102/Kangaroo.vcxproj.xml  \n",
            "  inflating: RETRIVER/VC_CUDA10/in.txt  \n",
            "  inflating: RETRIVER/VC_CUDA10/in64_20.txt  \n",
            "  inflating: RETRIVER/VC_CUDA10/in72_20.txt  \n",
            "  inflating: RETRIVER/VC_CUDA10/Kangaroo.sln  \n",
            "  inflating: RETRIVER/VC_CUDA10/Kangaroo.vcxproj.filters  \n",
            "  inflating: RETRIVER/VC_CUDA10/Kangaroo.vcxproj.xml  \n",
            "   creating: RETRIVER/VC_CUDA8/\n",
            "  inflating: RETRIVER/VC_CUDA8/in40_1000.txt  \n",
            "  inflating: RETRIVER/VC_CUDA8/in48.txt  \n",
            "  inflating: RETRIVER/VC_CUDA8/in56.txt  \n",
            "  inflating: RETRIVER/VC_CUDA8/in64.txt  \n",
            "  inflating: RETRIVER/VC_CUDA8/in80.txt  \n",
            "  inflating: RETRIVER/VC_CUDA8/Kangaroo.sln  \n",
            "  inflating: RETRIVER/VC_CUDA8/Kangaroo.vcxproj  \n",
            "  inflating: RETRIVER/VC_CUDA8/Kangaroo.vcxproj.filters  \n",
            "  inflating: RETRIVER/WindowsErrors.h  \n"
          ]
        }
      ]
    },
    {
      "cell_type": "code",
      "source": [
        "!cd /content/drive/MyDrive/RETRIVER/ && chmod +x Makefile"
      ],
      "metadata": {
        "id": "AVa4tfWMxGWC"
      },
      "execution_count": 87,
      "outputs": []
    },
    {
      "cell_type": "code",
      "execution_count": 88,
      "metadata": {
        "colab": {
          "base_uri": "https://localhost:8080/"
        },
        "id": "SatFD2_Wn2zu",
        "outputId": "a18d7bd0-008b-4a4d-d915-4d4256c3cd34"
      },
      "outputs": [
        {
          "output_type": "stream",
          "name": "stdout",
          "text": [
            "cd obj &&\tmkdir -p SECPK1\n",
            "cd obj && mkdir -p GPU\n",
            "/usr/local/cuda/bin/nvcc -maxrregcount=0 --ptxas-options=-v --compile --compiler-options -fPIC -ccbin /usr/bin/g++ -m64 -O2 -I/usr/local/cuda/include -gencode=arch=compute_75,code=sm_75 -o obj/GPU/GPUEngine.o -c GPU/GPUEngine.cu\n",
            "ptxas info    : 0 bytes gmem, 2560 bytes cmem[3]\n",
            "ptxas info    : Compiling entry function '_Z14comp_kangaroosPmjPjm' for 'sm_75'\n",
            "ptxas info    : Function properties for _Z14comp_kangaroosPmjPjm\n",
            "    36992 bytes stack frame, 0 bytes spill stores, 0 bytes spill loads\n",
            "ptxas info    : Used 100 registers, 384 bytes cmem[0]\n",
            "ptxas info    : Function properties for _Z14_ModInvGroupedPA4_m\n",
            "    0 bytes stack frame, 0 bytes spill stores, 0 bytes spill loads\n",
            "ptxas info    : Function properties for _Z7_ModInvPm\n",
            "    0 bytes stack frame, 0 bytes spill stores, 0 bytes spill loads\n",
            "g++ -DWITHGPU -m64 -mssse3 -Wno-unused-result -Wno-write-strings -O2 -I. -I/usr/local/cuda/include -o obj/Kangaroo.o -c Kangaroo.cpp\n",
            "Making Kangaroo...\n",
            "g++ obj/SECPK1/IntGroup.o obj/main.o obj/SECPK1/Random.o obj/Timer.o obj/SECPK1/Int.o obj/SECPK1/IntMod.o obj/SECPK1/Point.o obj/SECPK1/SECP256K1.o obj/GPU/GPUEngine.o obj/Kangaroo.o obj/HashTable.o obj/Thread.o obj/Backup.o obj/Check.o obj/Network.o obj/Merge.o obj/PartMerge.o -lpthread -L/usr/local/cuda/lib64 -lcudart -o kangaroo\n"
          ]
        }
      ],
      "source": [
        "!cd /content/drive/MyDrive/RETRIVER/ && make gpu=1 CCAP=75 all"
      ]
    },
    {
      "cell_type": "code",
      "source": [
        "!cd /content/drive/MyDrive/RETRIVER/ && chmod +x kangaroo"
      ],
      "metadata": {
        "id": "3vwoVz0ZybfB"
      },
      "execution_count": 89,
      "outputs": []
    },
    {
      "cell_type": "code",
      "source": [
        "!cd /content/drive/MyDrive/RETRIVER/ && ./kangaroo -l"
      ],
      "metadata": {
        "colab": {
          "base_uri": "https://localhost:8080/"
        },
        "id": "psNP2VQiyY9j",
        "outputId": "816801fd-24c7-4ddd-ecd0-b00fdb90d69a"
      },
      "execution_count": 90,
      "outputs": [
        {
          "output_type": "stream",
          "name": "stdout",
          "text": [
            "Kangaroo v2.2 : Added Start End Stride Options\n",
            "GPU #0 Tesla T4 (40x64 cores) (Cap 7.5) (15102.1 MB) (Multiple host threads)\n"
          ]
        }
      ]
    },
    {
      "cell_type": "code",
      "source": [],
      "metadata": {
        "id": "PIz6BoxmNyMz"
      },
      "execution_count": null,
      "outputs": []
    },
    {
      "cell_type": "code",
      "source": [
        "!cd /content/drive/MyDrive && unzip RETRIVER-75.zip"
      ],
      "metadata": {
        "colab": {
          "base_uri": "https://localhost:8080/"
        },
        "id": "bj5p7o5ZNfyd",
        "outputId": "2c284d6d-54b7-4a15-fba1-1636d0b56028"
      },
      "execution_count": 86,
      "outputs": [
        {
          "output_type": "stream",
          "name": "stdout",
          "text": [
            "Archive:  RETRIVER-75.zip\n",
            "   creating: RETRIVER/\n",
            "   creating: RETRIVER/.git/\n",
            "   creating: RETRIVER/.git/branches/\n",
            "  inflating: RETRIVER/.git/config    \n",
            "  inflating: RETRIVER/.git/description  \n",
            " extracting: RETRIVER/.git/HEAD      \n",
            "   creating: RETRIVER/.git/hooks/\n",
            "  inflating: RETRIVER/.git/hooks/applypatch-msg.sample  \n",
            "  inflating: RETRIVER/.git/hooks/commit-msg.sample  \n",
            "  inflating: RETRIVER/.git/hooks/fsmonitor-watchman.sample  \n",
            "  inflating: RETRIVER/.git/hooks/post-update.sample  \n",
            "  inflating: RETRIVER/.git/hooks/pre-applypatch.sample  \n",
            "  inflating: RETRIVER/.git/hooks/pre-commit.sample  \n",
            "  inflating: RETRIVER/.git/hooks/pre-merge-commit.sample  \n",
            "  inflating: RETRIVER/.git/hooks/pre-push.sample  \n",
            "  inflating: RETRIVER/.git/hooks/pre-rebase.sample  \n",
            "  inflating: RETRIVER/.git/hooks/pre-receive.sample  \n",
            "  inflating: RETRIVER/.git/hooks/prepare-commit-msg.sample  \n",
            "  inflating: RETRIVER/.git/hooks/push-to-checkout.sample  \n",
            "  inflating: RETRIVER/.git/hooks/update.sample  \n",
            "  inflating: RETRIVER/.git/index     \n",
            "   creating: RETRIVER/.git/info/\n",
            "  inflating: RETRIVER/.git/info/exclude  \n",
            "   creating: RETRIVER/.git/logs/\n",
            "  inflating: RETRIVER/.git/logs/HEAD  \n",
            "   creating: RETRIVER/.git/logs/refs/\n",
            "   creating: RETRIVER/.git/logs/refs/heads/\n",
            "  inflating: RETRIVER/.git/logs/refs/heads/master  \n",
            "   creating: RETRIVER/.git/logs/refs/remotes/\n",
            "   creating: RETRIVER/.git/logs/refs/remotes/origin/\n",
            "  inflating: RETRIVER/.git/logs/refs/remotes/origin/HEAD  \n",
            "   creating: RETRIVER/.git/objects/\n",
            "   creating: RETRIVER/.git/objects/info/\n",
            "   creating: RETRIVER/.git/objects/pack/\n",
            "  inflating: RETRIVER/.git/objects/pack/pack-2d4f0d034bfbd1bd29f82633015c39a639f64798.idx  \n",
            "  inflating: RETRIVER/.git/objects/pack/pack-2d4f0d034bfbd1bd29f82633015c39a639f64798.pack  \n",
            "  inflating: RETRIVER/.git/packed-refs  \n",
            "   creating: RETRIVER/.git/refs/\n",
            "   creating: RETRIVER/.git/refs/heads/\n",
            " extracting: RETRIVER/.git/refs/heads/master  \n",
            "   creating: RETRIVER/.git/refs/remotes/\n",
            "   creating: RETRIVER/.git/refs/remotes/origin/\n",
            " extracting: RETRIVER/.git/refs/remotes/origin/HEAD  \n",
            "   creating: RETRIVER/.git/refs/tags/\n",
            "  inflating: RETRIVER/.gitignore     \n",
            "   creating: RETRIVER/.ipynb_checkpoints/\n",
            "  inflating: RETRIVER/Backup.cpp     \n",
            "  inflating: RETRIVER/Check.cpp      \n",
            "  inflating: RETRIVER/Constants.h    \n",
            "   creating: RETRIVER/DOC/\n",
            "  inflating: RETRIVER/DOC/architecture.jpg  \n",
            "  inflating: RETRIVER/DOC/keys110.jpg  \n",
            "  inflating: RETRIVER/DOC/paths.jpg  \n",
            "  inflating: RETRIVER/DOC/successprob.jpg  \n",
            "   creating: RETRIVER/FIX/\n",
            "  inflating: RETRIVER/FIX/AiCreateherd Generated WILD.txt  \n",
            "  inflating: RETRIVER/FIX/AiCreateherd NO Generation  WILD - .txt  \n",
            "  inflating: RETRIVER/FIX/GPUEngine.cu  \n",
            "  inflating: RETRIVER/FIX/Kangaroo.cpp  \n",
            "  inflating: RETRIVER/FIX/Network-2VERSION2.txt  \n",
            "  inflating: RETRIVER/FIX/Network.cpp  \n",
            "  inflating: RETRIVER/FIX/Network.cpp VERSION1.txt  \n",
            "  inflating: RETRIVER/FIX/V1Engine.cuV.txt  \n",
            "  inflating: RETRIVER/FIX/V2Engine.cu.txt  \n",
            "   creating: RETRIVER/GPU/\n",
            "  inflating: RETRIVER/GPU/GPUCompute.h  \n",
            "  inflating: RETRIVER/GPU/GPUEngine.h  \n",
            "  inflating: RETRIVER/GPU/GPUGenerate.cpp  \n",
            "  inflating: RETRIVER/GPU/GPUMath.h  \n",
            "  inflating: RETRIVER/GPU/GPUEngine.cu  \n",
            "   creating: RETRIVER/GPU/.ipynb_checkpoints/\n",
            "  inflating: RETRIVER/HashTable.cpp  \n",
            "  inflating: RETRIVER/HashTable.h    \n",
            "  inflating: RETRIVER/in.txt         \n",
            "  inflating: RETRIVER/Kangaroo.h     \n",
            "  inflating: RETRIVER/KEYS.txt       \n",
            "  inflating: RETRIVER/LICENSE.txt    \n",
            "  inflating: RETRIVER/main.cpp       \n",
            "  inflating: RETRIVER/Makefile       \n",
            "  inflating: RETRIVER/Merge.cpp      \n",
            "  inflating: RETRIVER/Network-or.cpp  \n",
            "   creating: RETRIVER/obj/\n",
            "   creating: RETRIVER/obj/.ipynb_checkpoints/\n",
            "  inflating: RETRIVER/obj/Backup.o   \n",
            "  inflating: RETRIVER/obj/Check.o    \n",
            "   creating: RETRIVER/obj/GPU/\n",
            "   creating: RETRIVER/obj/GPU/.ipynb_checkpoints/\n",
            "  inflating: RETRIVER/obj/GPU/GPUEngine75.o  \n",
            "  inflating: RETRIVER/obj/HashTable.o  \n",
            "  inflating: RETRIVER/obj/main.o     \n",
            "  inflating: RETRIVER/obj/Merge.o    \n",
            "  inflating: RETRIVER/obj/PartMerge.o  \n",
            "   creating: RETRIVER/obj/SECPK1/\n",
            "   creating: RETRIVER/obj/SECPK1/.ipynb_checkpoints/\n",
            "  inflating: RETRIVER/obj/SECPK1/Int.o  \n",
            "  inflating: RETRIVER/obj/SECPK1/IntGroup.o  \n",
            "  inflating: RETRIVER/obj/SECPK1/IntMod.o  \n",
            "  inflating: RETRIVER/obj/SECPK1/Point.o  \n",
            "  inflating: RETRIVER/obj/SECPK1/Random.o  \n",
            "  inflating: RETRIVER/obj/SECPK1/SECP256K1.o  \n",
            "  inflating: RETRIVER/obj/Thread.o   \n",
            "  inflating: RETRIVER/obj/Timer.o    \n",
            "  inflating: RETRIVER/obj/Network.o  \n",
            "  inflating: RETRIVER/obj/Kangaroo75.o  \n",
            "  inflating: RETRIVER/PartMerge.cpp  \n",
            "  inflating: RETRIVER/puzzle32.txt   \n",
            "  inflating: RETRIVER/README.md      \n",
            "   creating: RETRIVER/SECPK1/\n",
            "  inflating: RETRIVER/SECPK1/Int.cpp  \n",
            "  inflating: RETRIVER/SECPK1/Int.h   \n",
            "  inflating: RETRIVER/SECPK1/IntGroup.cpp  \n",
            "  inflating: RETRIVER/SECPK1/IntGroup.h  \n",
            "  inflating: RETRIVER/SECPK1/IntMod.cpp  \n",
            "  inflating: RETRIVER/SECPK1/Point.cpp  \n",
            "  inflating: RETRIVER/SECPK1/Point.h  \n",
            "  inflating: RETRIVER/SECPK1/Random.cpp  \n",
            "  inflating: RETRIVER/SECPK1/Random.h  \n",
            "  inflating: RETRIVER/SECPK1/SECP256K1.cpp  \n",
            "  inflating: RETRIVER/SECPK1/SECP256k1.h  \n",
            "  inflating: RETRIVER/Thread.cpp     \n",
            "  inflating: RETRIVER/Timer.cpp      \n",
            "  inflating: RETRIVER/Timer.h        \n",
            "   creating: RETRIVER/VC_CUDA10/\n",
            "  inflating: RETRIVER/VC_CUDA10/in.txt  \n",
            "  inflating: RETRIVER/VC_CUDA10/in64_20.txt  \n",
            "  inflating: RETRIVER/VC_CUDA10/in72_20.txt  \n",
            "  inflating: RETRIVER/VC_CUDA10/Kangaroo.sln  \n",
            "  inflating: RETRIVER/VC_CUDA10/Kangaroo.vcxproj.filters  \n",
            "  inflating: RETRIVER/VC_CUDA10/Kangaroo.vcxproj.xml  \n",
            "   creating: RETRIVER/VC_CUDA102/\n",
            "  inflating: RETRIVER/VC_CUDA102/Kangaroo.sln  \n",
            "  inflating: RETRIVER/VC_CUDA102/Kangaroo.vcxproj.filters  \n",
            "  inflating: RETRIVER/VC_CUDA102/Kangaroo.vcxproj.xml  \n",
            "   creating: RETRIVER/VC_CUDA8/\n",
            "  inflating: RETRIVER/VC_CUDA8/in40_1000.txt  \n",
            "  inflating: RETRIVER/VC_CUDA8/in48.txt  \n",
            "  inflating: RETRIVER/VC_CUDA8/in56.txt  \n",
            "  inflating: RETRIVER/VC_CUDA8/in64.txt  \n",
            "  inflating: RETRIVER/VC_CUDA8/in80.txt  \n",
            "  inflating: RETRIVER/VC_CUDA8/Kangaroo.sln  \n",
            "  inflating: RETRIVER/VC_CUDA8/Kangaroo.vcxproj  \n",
            "  inflating: RETRIVER/VC_CUDA8/Kangaroo.vcxproj.filters  \n",
            "  inflating: RETRIVER/WindowsErrors.h  \n",
            "  inflating: RETRIVER/Network.cpp    \n",
            "  inflating: RETRIVER/Kangaroo.cpp   \n",
            "  inflating: RETRIVER/kangaroo75     \n"
          ]
        }
      ]
    },
    {
      "cell_type": "code",
      "source": [
        "!cd /content/drive/MyDrive/RETRIVER/ && ./kangaroo -gpu -t 4 -o FOUNDKEY.txt -st 4000000000000000000000000000000000 -en 7fffffffffffffffffffffffffffffffff -rb 135 -m 1 KEYS.txt"
      ],
      "metadata": {
        "colab": {
          "base_uri": "https://localhost:8080/"
        },
        "id": "aAOhSxYly7v0",
        "outputId": "ae8e2510-08ed-4164-8e72-94ed3911fbad"
      },
      "execution_count": 77,
      "outputs": [
        {
          "output_type": "stream",
          "name": "stdout",
          "text": [
            "Kangaroo v2.2 : Added Start End Stride Options\n",
            "Start:4000000000000000000000000000000000\n",
            "Stop :7FFFFFFFFFFFFFFFFFFFFFFFFFFFFFFFFF\n",
            "Keys :1\n",
            "Range width: 2^134\n",
            "Jump Avg distance: 2^67.04\n",
            "Number of kangaroos: 2^21.32\n",
            "Suggested DP: 43\n",
            "Expected operations: 2^68.12\n",
            "Expected RAM: 1407.0MB\n",
            "DP size: 43 [0xffffffffffe00000]\n",
            "SolveKeyCPU Thread 3: 1024 kangaroos\n",
            "SolveKeyCPU Thread 1: 1024 kangaroos\n",
            "SolveKeyCPU Thread 2: 1024 kangaroos\n",
            "SolveKeyCPU Thread 0: 1024 kangaroos\n",
            "GPU: GPU #0 Tesla T4 (40x64 cores) Grid(80x128) (207.0 MB used)\n",
            "SolveKeyGPU Thread GPU#0: creating kangaroos...\n",
            "SolveKeyGPU Thread GPU#0: 2^21.32 kangaroos [143.3s]\n",
            "[397145.85 TK/s][GPU 390470.57 TK/s][Count 2^40.11][Dead 0][35:39 (Avg 16185.3y)][2.0/4.0MB]  ^C\n"
          ]
        }
      ]
    },
    {
      "cell_type": "code",
      "source": [
        "!cd /content/drive/MyDrive/RETRIVER/ && ./kangaroo -gpu -t 4 -o FOUNDKEY.txt -st 100000000000000000000000000 -en 1ffffffffffffffffffffffffff -seq ffffffffffffffff -m 1 KEYS.txt"
      ],
      "metadata": {
        "id": "Sm2_Hy1oOCq8"
      },
      "execution_count": null,
      "outputs": []
    },
    {
      "cell_type": "code",
      "source": [
        "!pip3 install magic-wormhole"
      ],
      "metadata": {
        "colab": {
          "base_uri": "https://localhost:8080/"
        },
        "id": "Cn9I9ByqFufC",
        "outputId": "e4bcde7d-1b45-4da7-a814-0f1ccab4bcc1"
      },
      "execution_count": 80,
      "outputs": [
        {
          "output_type": "stream",
          "name": "stdout",
          "text": [
            "Collecting magic-wormhole\n",
            "  Downloading magic_wormhole-0.17.0-py3-none-any.whl.metadata (4.5 kB)\n",
            "Collecting spake2==0.9 (from magic-wormhole)\n",
            "  Downloading spake2-0.9-py3-none-any.whl.metadata (523 bytes)\n",
            "Collecting pynacl (from magic-wormhole)\n",
            "  Downloading PyNaCl-1.5.0-cp36-abi3-manylinux_2_17_x86_64.manylinux2014_x86_64.manylinux_2_24_x86_64.whl.metadata (8.6 kB)\n",
            "Requirement already satisfied: attrs>=19.2.0 in /usr/local/lib/python3.10/dist-packages (from magic-wormhole) (24.3.0)\n",
            "Collecting twisted>=17.5.0 (from twisted[tls]>=17.5.0->magic-wormhole)\n",
            "  Downloading twisted-24.11.0-py3-none-any.whl.metadata (20 kB)\n",
            "Collecting autobahn>=0.14.1 (from autobahn[twisted]>=0.14.1->magic-wormhole)\n",
            "  Downloading autobahn-24.4.2-py2.py3-none-any.whl.metadata (18 kB)\n",
            "Collecting automat (from magic-wormhole)\n",
            "  Downloading Automat-24.8.1-py3-none-any.whl.metadata (8.4 kB)\n",
            "Requirement already satisfied: cryptography in /usr/local/lib/python3.10/dist-packages (from magic-wormhole) (43.0.3)\n",
            "Requirement already satisfied: tqdm>=4.13.0 in /usr/local/lib/python3.10/dist-packages (from magic-wormhole) (4.67.1)\n",
            "Requirement already satisfied: click in /usr/local/lib/python3.10/dist-packages (from magic-wormhole) (8.1.7)\n",
            "Requirement already satisfied: humanize in /usr/local/lib/python3.10/dist-packages (from magic-wormhole) (4.11.0)\n",
            "Collecting txtorcon>=18.0.2 (from magic-wormhole)\n",
            "  Downloading txtorcon-24.8.0-py3-none-any.whl.metadata (6.1 kB)\n",
            "Collecting zipstream-ng<2.0.0,>=1.7.1 (from magic-wormhole)\n",
            "  Downloading zipstream_ng-1.8.0-py3-none-any.whl.metadata (10 kB)\n",
            "Collecting iterable-io<2.0.0,>=1.0.0 (from magic-wormhole)\n",
            "  Downloading iterable_io-1.0.0-py3-none-any.whl.metadata (3.7 kB)\n",
            "Collecting txaio>=21.2.1 (from autobahn>=0.14.1->autobahn[twisted]>=0.14.1->magic-wormhole)\n",
            "  Downloading txaio-23.1.1-py2.py3-none-any.whl.metadata (5.4 kB)\n",
            "Collecting hyperlink>=21.0.0 (from autobahn>=0.14.1->autobahn[twisted]>=0.14.1->magic-wormhole)\n",
            "  Downloading hyperlink-21.0.0-py2.py3-none-any.whl.metadata (1.5 kB)\n",
            "Requirement already satisfied: setuptools in /usr/local/lib/python3.10/dist-packages (from autobahn>=0.14.1->autobahn[twisted]>=0.14.1->magic-wormhole) (75.1.0)\n",
            "Collecting zope.interface>=5.2.0 (from autobahn[twisted]>=0.14.1->magic-wormhole)\n",
            "  Downloading zope.interface-7.2-cp310-cp310-manylinux_2_5_x86_64.manylinux1_x86_64.manylinux_2_17_x86_64.manylinux2014_x86_64.whl.metadata (44 kB)\n",
            "\u001b[2K     \u001b[90m━━━━━━━━━━━━━━━━━━━━━━━━━━━━━━━━━━━━━━━━\u001b[0m \u001b[32m44.4/44.4 kB\u001b[0m \u001b[31m3.5 MB/s\u001b[0m eta \u001b[36m0:00:00\u001b[0m\n",
            "\u001b[?25hRequirement already satisfied: cffi>=1.12 in /usr/local/lib/python3.10/dist-packages (from cryptography->magic-wormhole) (1.17.1)\n",
            "Collecting constantly>=15.1 (from twisted>=17.5.0->twisted[tls]>=17.5.0->magic-wormhole)\n",
            "  Downloading constantly-23.10.4-py3-none-any.whl.metadata (1.8 kB)\n",
            "Collecting incremental>=24.7.0 (from twisted>=17.5.0->twisted[tls]>=17.5.0->magic-wormhole)\n",
            "  Downloading incremental-24.7.2-py3-none-any.whl.metadata (8.1 kB)\n",
            "Requirement already satisfied: typing-extensions>=4.2.0 in /usr/local/lib/python3.10/dist-packages (from twisted>=17.5.0->twisted[tls]>=17.5.0->magic-wormhole) (4.12.2)\n",
            "Requirement already satisfied: idna>=2.4 in /usr/local/lib/python3.10/dist-packages (from twisted[tls]>=17.5.0->magic-wormhole) (3.10)\n",
            "Requirement already satisfied: pyopenssl>=21.0.0 in /usr/local/lib/python3.10/dist-packages (from twisted[tls]>=17.5.0->magic-wormhole) (24.2.1)\n",
            "Collecting service-identity>=18.1.0 (from twisted[tls]>=17.5.0->magic-wormhole)\n",
            "  Downloading service_identity-24.2.0-py3-none-any.whl.metadata (5.1 kB)\n",
            "Requirement already satisfied: pycparser in /usr/local/lib/python3.10/dist-packages (from cffi>=1.12->cryptography->magic-wormhole) (2.22)\n",
            "Requirement already satisfied: tomli in /usr/local/lib/python3.10/dist-packages (from incremental>=24.7.0->twisted>=17.5.0->twisted[tls]>=17.5.0->magic-wormhole) (2.2.1)\n",
            "Requirement already satisfied: pyasn1 in /usr/local/lib/python3.10/dist-packages (from service-identity>=18.1.0->twisted[tls]>=17.5.0->magic-wormhole) (0.6.1)\n",
            "Requirement already satisfied: pyasn1-modules in /usr/local/lib/python3.10/dist-packages (from service-identity>=18.1.0->twisted[tls]>=17.5.0->magic-wormhole) (0.4.1)\n",
            "Downloading magic_wormhole-0.17.0-py3-none-any.whl (200 kB)\n",
            "\u001b[2K   \u001b[90m━━━━━━━━━━━━━━━━━━━━━━━━━━━━━━━━━━━━━━━━\u001b[0m \u001b[32m200.8/200.8 kB\u001b[0m \u001b[31m10.7 MB/s\u001b[0m eta \u001b[36m0:00:00\u001b[0m\n",
            "\u001b[?25hDownloading spake2-0.9-py3-none-any.whl (31 kB)\n",
            "Downloading autobahn-24.4.2-py2.py3-none-any.whl (666 kB)\n",
            "\u001b[2K   \u001b[90m━━━━━━━━━━━━━━━━━━━━━━━━━━━━━━━━━━━━━━━━\u001b[0m \u001b[32m667.0/667.0 kB\u001b[0m \u001b[31m33.0 MB/s\u001b[0m eta \u001b[36m0:00:00\u001b[0m\n",
            "\u001b[?25hDownloading iterable_io-1.0.0-py3-none-any.whl (4.9 kB)\n",
            "Downloading twisted-24.11.0-py3-none-any.whl (3.2 MB)\n",
            "\u001b[2K   \u001b[90m━━━━━━━━━━━━━━━━━━━━━━━━━━━━━━━━━━━━━━━━\u001b[0m \u001b[32m3.2/3.2 MB\u001b[0m \u001b[31m90.4 MB/s\u001b[0m eta \u001b[36m0:00:00\u001b[0m\n",
            "\u001b[?25hDownloading Automat-24.8.1-py3-none-any.whl (42 kB)\n",
            "\u001b[2K   \u001b[90m━━━━━━━━━━━━━━━━━━━━━━━━━━━━━━━━━━━━━━━━\u001b[0m \u001b[32m42.6/42.6 kB\u001b[0m \u001b[31m4.0 MB/s\u001b[0m eta \u001b[36m0:00:00\u001b[0m\n",
            "\u001b[?25hDownloading txtorcon-24.8.0-py3-none-any.whl (261 kB)\n",
            "\u001b[2K   \u001b[90m━━━━━━━━━━━━━━━━━━━━━━━━━━━━━━━━━━━━━━━━\u001b[0m \u001b[32m261.3/261.3 kB\u001b[0m \u001b[31m23.7 MB/s\u001b[0m eta \u001b[36m0:00:00\u001b[0m\n",
            "\u001b[?25hDownloading zipstream_ng-1.8.0-py3-none-any.whl (23 kB)\n",
            "Downloading PyNaCl-1.5.0-cp36-abi3-manylinux_2_17_x86_64.manylinux2014_x86_64.manylinux_2_24_x86_64.whl (856 kB)\n",
            "\u001b[2K   \u001b[90m━━━━━━━━━━━━━━━━━━━━━━━━━━━━━━━━━━━━━━━━\u001b[0m \u001b[32m856.7/856.7 kB\u001b[0m \u001b[31m56.8 MB/s\u001b[0m eta \u001b[36m0:00:00\u001b[0m\n",
            "\u001b[?25hDownloading constantly-23.10.4-py3-none-any.whl (13 kB)\n",
            "Downloading hyperlink-21.0.0-py2.py3-none-any.whl (74 kB)\n",
            "\u001b[2K   \u001b[90m━━━━━━━━━━━━━━━━━━━━━━━━━━━━━━━━━━━━━━━━\u001b[0m \u001b[32m74.6/74.6 kB\u001b[0m \u001b[31m7.8 MB/s\u001b[0m eta \u001b[36m0:00:00\u001b[0m\n",
            "\u001b[?25hDownloading incremental-24.7.2-py3-none-any.whl (20 kB)\n",
            "Downloading service_identity-24.2.0-py3-none-any.whl (11 kB)\n",
            "Downloading txaio-23.1.1-py2.py3-none-any.whl (30 kB)\n",
            "Downloading zope.interface-7.2-cp310-cp310-manylinux_2_5_x86_64.manylinux1_x86_64.manylinux_2_17_x86_64.manylinux2014_x86_64.whl (254 kB)\n",
            "\u001b[2K   \u001b[90m━━━━━━━━━━━━━━━━━━━━━━━━━━━━━━━━━━━━━━━━\u001b[0m \u001b[32m254.5/254.5 kB\u001b[0m \u001b[31m22.7 MB/s\u001b[0m eta \u001b[36m0:00:00\u001b[0m\n",
            "\u001b[?25hInstalling collected packages: zope.interface, zipstream-ng, txaio, iterable-io, incremental, hyperlink, constantly, automat, twisted, pynacl, spake2, service-identity, autobahn, txtorcon, magic-wormhole\n",
            "Successfully installed autobahn-24.4.2 automat-24.8.1 constantly-23.10.4 hyperlink-21.0.0 incremental-24.7.2 iterable-io-1.0.0 magic-wormhole-0.17.0 pynacl-1.5.0 service-identity-24.2.0 spake2-0.9 twisted-24.11.0 txaio-23.1.1 txtorcon-24.8.0 zipstream-ng-1.8.0 zope.interface-7.2\n"
          ]
        }
      ]
    },
    {
      "cell_type": "code",
      "source": [
        "!cd /content/drive/MyDrive/ && wormhole send RETRIVER"
      ],
      "metadata": {
        "colab": {
          "base_uri": "https://localhost:8080/"
        },
        "id": "kLX_Nwh8Fy0f",
        "outputId": "ab2cd577-2bb5-4edb-cc5f-f32d7cbf8491"
      },
      "execution_count": 82,
      "outputs": [
        {
          "output_type": "stream",
          "name": "stdout",
          "text": [
            "Building zipfile..\n",
            "Sending directory (2.8 MB compressed) named 'RETRIVER'\n",
            "Wormhole code is: 3-holiness-framework\n",
            "On the other computer, please run:\n",
            "\n",
            "wormhole receive 3-holiness-framework\n",
            "\n",
            "while calling from thread\n",
            "Traceback (most recent call last):\n",
            "  File \"/usr/local/lib/python3.10/dist-packages/twisted/internet/base.py\", line 1064, in runUntilCurrent\n",
            "    f(*a, **kw)\n",
            "  File \"/usr/local/lib/python3.10/dist-packages/twisted/internet/base.py\", line 790, in stop\n",
            "    raise error.ReactorNotRunning(\"Can't stop reactor that isn't running.\")\n",
            "twisted.internet.error.ReactorNotRunning: Can't stop reactor that isn't running.\n",
            "\n"
          ]
        }
      ]
    },
    {
      "cell_type": "code",
      "source": [
        "!cd /content/drive/MyDrive/ && zip -r RETRIVER-75.zip RETRIVER"
      ],
      "metadata": {
        "colab": {
          "base_uri": "https://localhost:8080/"
        },
        "id": "nI5DQQNXDQaM",
        "outputId": "76ad1b5d-bc8a-4f57-b169-e0ab001e2f91"
      },
      "execution_count": 79,
      "outputs": [
        {
          "output_type": "stream",
          "name": "stdout",
          "text": [
            "  adding: RETRIVER/ (stored 0%)\n",
            "  adding: RETRIVER/.git/ (stored 0%)\n",
            "  adding: RETRIVER/.git/branches/ (stored 0%)\n",
            "  adding: RETRIVER/.git/config (deflated 32%)\n",
            "  adding: RETRIVER/.git/description (deflated 14%)\n",
            "  adding: RETRIVER/.git/HEAD (stored 0%)\n",
            "  adding: RETRIVER/.git/hooks/ (stored 0%)\n",
            "  adding: RETRIVER/.git/hooks/applypatch-msg.sample (deflated 42%)\n",
            "  adding: RETRIVER/.git/hooks/commit-msg.sample (deflated 44%)\n",
            "  adding: RETRIVER/.git/hooks/fsmonitor-watchman.sample (deflated 62%)\n",
            "  adding: RETRIVER/.git/hooks/post-update.sample (deflated 27%)\n",
            "  adding: RETRIVER/.git/hooks/pre-applypatch.sample (deflated 38%)\n",
            "  adding: RETRIVER/.git/hooks/pre-commit.sample (deflated 45%)\n",
            "  adding: RETRIVER/.git/hooks/pre-merge-commit.sample (deflated 39%)\n",
            "  adding: RETRIVER/.git/hooks/pre-push.sample (deflated 49%)\n",
            "  adding: RETRIVER/.git/hooks/pre-rebase.sample (deflated 59%)\n",
            "  adding: RETRIVER/.git/hooks/pre-receive.sample (deflated 40%)\n",
            "  adding: RETRIVER/.git/hooks/prepare-commit-msg.sample (deflated 50%)\n",
            "  adding: RETRIVER/.git/hooks/push-to-checkout.sample (deflated 55%)\n",
            "  adding: RETRIVER/.git/hooks/update.sample (deflated 68%)\n",
            "  adding: RETRIVER/.git/index (deflated 53%)\n",
            "  adding: RETRIVER/.git/info/ (stored 0%)\n",
            "  adding: RETRIVER/.git/info/exclude (deflated 28%)\n",
            "  adding: RETRIVER/.git/logs/ (stored 0%)\n",
            "  adding: RETRIVER/.git/logs/HEAD (deflated 28%)\n",
            "  adding: RETRIVER/.git/logs/refs/ (stored 0%)\n",
            "  adding: RETRIVER/.git/logs/refs/heads/ (stored 0%)\n",
            "  adding: RETRIVER/.git/logs/refs/heads/master (deflated 28%)\n",
            "  adding: RETRIVER/.git/logs/refs/remotes/ (stored 0%)\n",
            "  adding: RETRIVER/.git/logs/refs/remotes/origin/ (stored 0%)\n",
            "  adding: RETRIVER/.git/logs/refs/remotes/origin/HEAD (deflated 28%)\n",
            "  adding: RETRIVER/.git/objects/ (stored 0%)\n",
            "  adding: RETRIVER/.git/objects/info/ (stored 0%)\n",
            "  adding: RETRIVER/.git/objects/pack/ (stored 0%)\n",
            "  adding: RETRIVER/.git/objects/pack/pack-2d4f0d034bfbd1bd29f82633015c39a639f64798.idx (deflated 3%)\n",
            "  adding: RETRIVER/.git/objects/pack/pack-2d4f0d034bfbd1bd29f82633015c39a639f64798.pack (deflated 1%)\n",
            "  adding: RETRIVER/.git/packed-refs (deflated 48%)\n",
            "  adding: RETRIVER/.git/refs/ (stored 0%)\n",
            "  adding: RETRIVER/.git/refs/heads/ (stored 0%)\n",
            "  adding: RETRIVER/.git/refs/heads/master (stored 0%)\n",
            "  adding: RETRIVER/.git/refs/remotes/ (stored 0%)\n",
            "  adding: RETRIVER/.git/refs/remotes/origin/ (stored 0%)\n",
            "  adding: RETRIVER/.git/refs/remotes/origin/HEAD (stored 0%)\n",
            "  adding: RETRIVER/.git/refs/tags/ (stored 0%)\n",
            "  adding: RETRIVER/.gitignore (deflated 40%)\n",
            "  adding: RETRIVER/.ipynb_checkpoints/ (stored 0%)\n",
            "  adding: RETRIVER/Backup.cpp (deflated 72%)\n",
            "  adding: RETRIVER/Check.cpp (deflated 71%)\n",
            "  adding: RETRIVER/Constants.h (deflated 72%)\n",
            "  adding: RETRIVER/DOC/ (stored 0%)\n",
            "  adding: RETRIVER/DOC/architecture.jpg (deflated 8%)\n",
            "  adding: RETRIVER/DOC/keys110.jpg (deflated 0%)\n",
            "  adding: RETRIVER/DOC/paths.jpg (deflated 25%)\n",
            "  adding: RETRIVER/DOC/successprob.jpg (deflated 17%)\n",
            "  adding: RETRIVER/FIX/ (stored 0%)\n",
            "  adding: RETRIVER/FIX/AiCreateherd Generated WILD.txt (deflated 63%)\n",
            "  adding: RETRIVER/FIX/AiCreateherd NO Generation  WILD - .txt (deflated 70%)\n",
            "  adding: RETRIVER/FIX/GPUEngine.cu (deflated 77%)\n",
            "  adding: RETRIVER/FIX/Kangaroo.cpp (deflated 74%)\n",
            "  adding: RETRIVER/FIX/Network-2VERSION2.txt (deflated 53%)\n",
            "  adding: RETRIVER/FIX/Network.cpp (deflated 76%)\n",
            "  adding: RETRIVER/FIX/Network.cpp VERSION1.txt (deflated 57%)\n",
            "  adding: RETRIVER/FIX/V1Engine.cuV.txt (deflated 41%)\n",
            "  adding: RETRIVER/FIX/V2Engine.cu.txt (deflated 44%)\n",
            "  adding: RETRIVER/GPU/ (stored 0%)\n",
            "  adding: RETRIVER/GPU/GPUCompute.h (deflated 60%)\n",
            "  adding: RETRIVER/GPU/GPUEngine.h (deflated 71%)\n",
            "  adding: RETRIVER/GPU/GPUGenerate.cpp (deflated 55%)\n",
            "  adding: RETRIVER/GPU/GPUMath.h (deflated 80%)\n",
            "  adding: RETRIVER/GPU/GPUEngine.cu (deflated 76%)\n",
            "  adding: RETRIVER/GPU/.ipynb_checkpoints/ (stored 0%)\n",
            "  adding: RETRIVER/HashTable.cpp (deflated 68%)\n",
            "  adding: RETRIVER/HashTable.h (deflated 54%)\n",
            "  adding: RETRIVER/in.txt (deflated 29%)\n",
            "  adding: RETRIVER/Kangaroo.h (deflated 65%)\n",
            "  adding: RETRIVER/KEYS.txt (deflated 17%)\n",
            "  adding: RETRIVER/LICENSE.txt (deflated 66%)\n",
            "  adding: RETRIVER/main.cpp (deflated 71%)\n",
            "  adding: RETRIVER/Makefile (deflated 73%)\n",
            "  adding: RETRIVER/Merge.cpp (deflated 65%)\n",
            "  adding: RETRIVER/Network-or.cpp (deflated 76%)\n",
            "  adding: RETRIVER/obj/ (stored 0%)\n",
            "  adding: RETRIVER/obj/.ipynb_checkpoints/ (stored 0%)\n",
            "  adding: RETRIVER/obj/Backup.o (deflated 68%)\n",
            "  adding: RETRIVER/obj/Check.o (deflated 69%)\n",
            "  adding: RETRIVER/obj/GPU/ (stored 0%)\n",
            "  adding: RETRIVER/obj/GPU/.ipynb_checkpoints/ (stored 0%)\n",
            "  adding: RETRIVER/obj/GPU/GPUEngine75.o (deflated 67%)\n",
            "  adding: RETRIVER/obj/HashTable.o (deflated 60%)\n",
            "  adding: RETRIVER/obj/main.o (deflated 72%)\n",
            "  adding: RETRIVER/obj/Merge.o (deflated 66%)\n",
            "  adding: RETRIVER/obj/PartMerge.o (deflated 69%)\n",
            "  adding: RETRIVER/obj/SECPK1/ (stored 0%)\n",
            "  adding: RETRIVER/obj/SECPK1/.ipynb_checkpoints/ (stored 0%)\n",
            "  adding: RETRIVER/obj/SECPK1/Int.o (deflated 65%)\n",
            "  adding: RETRIVER/obj/SECPK1/IntGroup.o (deflated 62%)\n",
            "  adding: RETRIVER/obj/SECPK1/IntMod.o (deflated 70%)\n",
            "  adding: RETRIVER/obj/SECPK1/Point.o (deflated 68%)\n",
            "  adding: RETRIVER/obj/SECPK1/Random.o (deflated 64%)\n",
            "  adding: RETRIVER/obj/SECPK1/SECP256K1.o (deflated 70%)\n",
            "  adding: RETRIVER/obj/Thread.o (deflated 61%)\n",
            "  adding: RETRIVER/obj/Timer.o (deflated 67%)\n",
            "  adding: RETRIVER/obj/Network.o (deflated 69%)\n",
            "  adding: RETRIVER/obj/Kangaroo75.o (deflated 67%)\n",
            "  adding: RETRIVER/PartMerge.cpp (deflated 78%)\n",
            "  adding: RETRIVER/puzzle32.txt (deflated 53%)\n",
            "  adding: RETRIVER/README.md (deflated 64%)\n",
            "  adding: RETRIVER/SECPK1/ (stored 0%)\n",
            "  adding: RETRIVER/SECPK1/Int.cpp (deflated 79%)\n",
            "  adding: RETRIVER/SECPK1/Int.h (deflated 74%)\n",
            "  adding: RETRIVER/SECPK1/IntGroup.cpp (deflated 48%)\n",
            "  adding: RETRIVER/SECPK1/IntGroup.h (deflated 41%)\n",
            "  adding: RETRIVER/SECPK1/IntMod.cpp (deflated 77%)\n",
            "  adding: RETRIVER/SECPK1/Point.cpp (deflated 56%)\n",
            "  adding: RETRIVER/SECPK1/Point.h (deflated 46%)\n",
            "  adding: RETRIVER/SECPK1/Random.cpp (deflated 55%)\n",
            "  adding: RETRIVER/SECPK1/Random.h (deflated 41%)\n",
            "  adding: RETRIVER/SECPK1/SECP256K1.cpp (deflated 69%)\n",
            "  adding: RETRIVER/SECPK1/SECP256k1.h (deflated 53%)\n",
            "  adding: RETRIVER/Thread.cpp (deflated 70%)\n",
            "  adding: RETRIVER/Timer.cpp (deflated 59%)\n",
            "  adding: RETRIVER/Timer.h (deflated 51%)\n",
            "  adding: RETRIVER/VC_CUDA10/ (stored 0%)\n",
            "  adding: RETRIVER/VC_CUDA10/in.txt (deflated 54%)\n",
            "  adding: RETRIVER/VC_CUDA10/in64_20.txt (deflated 47%)\n",
            "  adding: RETRIVER/VC_CUDA10/in72_20.txt (deflated 47%)\n",
            "  adding: RETRIVER/VC_CUDA10/Kangaroo.sln (deflated 64%)\n",
            "  adding: RETRIVER/VC_CUDA10/Kangaroo.vcxproj.filters (deflated 79%)\n",
            "  adding: RETRIVER/VC_CUDA10/Kangaroo.vcxproj.xml (deflated 82%)\n",
            "  adding: RETRIVER/VC_CUDA102/ (stored 0%)\n",
            "  adding: RETRIVER/VC_CUDA102/Kangaroo.sln (deflated 64%)\n",
            "  adding: RETRIVER/VC_CUDA102/Kangaroo.vcxproj.filters (deflated 79%)\n",
            "  adding: RETRIVER/VC_CUDA102/Kangaroo.vcxproj.xml (deflated 82%)\n",
            "  adding: RETRIVER/VC_CUDA8/ (stored 0%)\n",
            "  adding: RETRIVER/VC_CUDA8/in40_1000.txt (deflated 42%)\n",
            "  adding: RETRIVER/VC_CUDA8/in48.txt (deflated 53%)\n",
            "  adding: RETRIVER/VC_CUDA8/in56.txt (deflated 54%)\n",
            "  adding: RETRIVER/VC_CUDA8/in64.txt (deflated 53%)\n",
            "  adding: RETRIVER/VC_CUDA8/in80.txt (deflated 53%)\n",
            "  adding: RETRIVER/VC_CUDA8/Kangaroo.sln (deflated 60%)\n",
            "  adding: RETRIVER/VC_CUDA8/Kangaroo.vcxproj (deflated 84%)\n",
            "  adding: RETRIVER/VC_CUDA8/Kangaroo.vcxproj.filters (deflated 79%)\n",
            "  adding: RETRIVER/WindowsErrors.h (deflated 63%)\n",
            "  adding: RETRIVER/Network.cpp (deflated 77%)\n",
            "  adding: RETRIVER/Kangaroo.cpp (deflated 73%)\n",
            "  adding: RETRIVER/kangaroo75 (deflated 60%)\n"
          ]
        }
      ]
    }
  ],
  "metadata": {
    "colab": {
      "provenance": [],
      "gpuType": "T4"
    },
    "kernelspec": {
      "display_name": "Python 3",
      "name": "python3"
    },
    "accelerator": "GPU"
  },
  "nbformat": 4,
  "nbformat_minor": 0
}